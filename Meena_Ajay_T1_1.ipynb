{
  "cells": [
    {
      "cell_type": "markdown",
      "source": [
        "\n",
        "---\n",
        "\n",
        "\n",
        "Before starting, you must click on the \"Copy To Drive\" option in the top bar. Go to File --> Save a Copy to Drive. Name it *'LastName_FirstName_T1.1.ipynb'*. <ins>This is the master notebook so you will not be able to save your changes without copying it !</ins> Once you click on that, make sure you are working on that version of the notebook so that your work is saved.\n",
        "\n",
        "\n",
        "\n",
        "---"
      ],
      "metadata": {
        "id": "SfhF5BUcomZP"
      }
    },
    {
      "cell_type": "markdown",
      "source": [
        "### In this Colab notebook we explore loss - in particular, Root Mean Squared Error (RMSE) Loss for a Regression problem. We also train a basic Machine Learning model using Gradient Descent to fit our data better and consequently minimize the loss.\n"
      ],
      "metadata": {
        "id": "DUtcejBhPRi3"
      }
    },
    {
      "cell_type": "markdown",
      "source": [
        "## 1.Exploring Loss"
      ],
      "metadata": {
        "id": "-TiTRaOfOlIq"
      }
    },
    {
      "cell_type": "markdown",
      "source": [
        "In this section, we define a Linear Regression problem of the form Y = wX + b. We are provided with data (xs and ys) using which we need to infer the relationship between x and y i.e., arrive at the accurate values of weight (w) and bias (b)."
      ],
      "metadata": {
        "id": "SQxFbTjb1RRf"
      }
    },
    {
      "cell_type": "markdown",
      "source": [
        "\n",
        "\n",
        "---\n",
        "\n",
        "\n",
        "**Question 1**: It is said that in linear regression, we try to find the best fit line. Can you think of why?\n",
        "\n",
        "**Answer:** Because, the best fit line minimise the error in predicting one variable from another, summarising the overall trend.\n",
        "\n",
        "---\n",
        "\n"
      ],
      "metadata": {
        "id": "Oo4qroNybu_H"
      }
    },
    {
      "cell_type": "markdown",
      "source": [
        "We import two libraries -\n",
        "\n",
        "\n",
        "1.   [math](https://docs.python.org/3/library/math.html) - basic mathematical operations. eg: square root, power etc.\n",
        "2.   [matplotlib](https://matplotlib.org/) - visualization of data in Python\n",
        "\n"
      ],
      "metadata": {
        "id": "Rr3SfU1pOHji"
      }
    },
    {
      "cell_type": "code",
      "source": [
        "# import libraries\n",
        "import math\n",
        "import matplotlib.pyplot as plt"
      ],
      "metadata": {
        "id": "ULRbhByH_g6G"
      },
      "execution_count": 1,
      "outputs": []
    },
    {
      "cell_type": "markdown",
      "source": [
        "The below cell computes the predicted Y values for your guess of w and b. Simply change their values and explore how the output and subsequently the loss changes."
      ],
      "metadata": {
        "id": "mzT77SGLNmzq"
      }
    },
    {
      "cell_type": "markdown",
      "source": [
        "---\n",
        "\n",
        "\n",
        "**Question 2**: Report the loss for three different values of 'w' and 'b'. (Run the below three cells for each example)\n",
        "\n",
        "**Answer:**\n",
        "\n",
        "\n",
        "1.   w = 2, b = -1, loss = 0\n",
        "2.   w = 3, b = 2, loss = 4.81\n",
        "3.   w = -2, b = 1, loss = 7.91\n",
        "\n",
        "\n",
        "\n",
        "---"
      ],
      "metadata": {
        "id": "3vI1oUZPL1QL"
      }
    },
    {
      "cell_type": "code",
      "execution_count": 2,
      "metadata": {
        "id": "PwrR2q7tZKPi",
        "outputId": "1f7f4fea-1bcf-40bc-ace2-51d0392d8c81",
        "colab": {
          "base_uri": "https://localhost:8080/"
        }
      },
      "outputs": [
        {
          "output_type": "stream",
          "name": "stdout",
          "text": [
            "Real Y is [-3, -1, 1, 3, 5, 7]\n",
            "My Y is   [0, 10, 20, 30, 40, 50]\n"
          ]
        }
      ],
      "source": [
        "# Edit these parameters w and b to try different loss\n",
        "# measurements. Rerun this cell when done\n",
        "# Your Y will be calculated as Y = wX + b, so\n",
        "# if w = 3, and b = -1, then Y = 3x - 1\n",
        "\n",
        "w = 10# < YOUR CODE HERE >\n",
        "b = 10# < YOUR CODE HERE >\n",
        "\n",
        "x = [-1, 0, 1, 2, 3, 4]\n",
        "y = [-3, -1, 1, 3, 5, 7]     # ground truth for w = 2, b = -1, i.e, Y = 2x - 1\n",
        "myY = []\n",
        "\n",
        "\n",
        "for thisX in x:              # predicted Ys based on your parameters\n",
        "  thisY = (w*thisX)+b\n",
        "  myY.append(thisY)\n",
        "\n",
        "print(\"Real Y is \" + str(y))\n",
        "print(\"My Y is   \" + str(myY))"
      ]
    },
    {
      "cell_type": "markdown",
      "source": [
        "Before we move on to calculating the loss, lets visualize the difference between the actual Y and predicted Y values. In the below scatter plot, the *blue dots* represent the actual Y values, the *green dots* represent the predicted Y values and the *red dashed lines* represent the difference between the two for each individual data sample.\n",
        "\n",
        "You can read more about matplotlib scatter plots [here](https://matplotlib.org/stable/api/_as_gen/matplotlib.pyplot.scatter.html)."
      ],
      "metadata": {
        "id": "2759rVV6CjFY"
      }
    },
    {
      "cell_type": "code",
      "execution_count": 3,
      "metadata": {
        "id": "JJxSeN1B-fL8",
        "outputId": "fd410638-02f5-4a13-bcd0-8645b459a090",
        "colab": {
          "base_uri": "https://localhost:8080/",
          "height": 430
        }
      },
      "outputs": [
        {
          "output_type": "display_data",
          "data": {
            "text/plain": [
              "<Figure size 640x480 with 1 Axes>"
            ],
            "image/png": "[encoded data removed]"
          },
          "metadata": {}
        }
      ],
      "source": [
        "# visualize loss/errors\n",
        "plt.scatter(x, y, color='blue')                  # ground truth\n",
        "plt.scatter(x, myY, color='green')               # predicted\n",
        "plt.vlines(x, ymin=min(y,myY), ymax=max(y,myY), color=\"red\", linestyle='--', alpha=0.3)\n",
        "plt.show()"
      ]
    },
    {
      "cell_type": "markdown",
      "source": [
        "---\n",
        "\n",
        "\n",
        "**Question 3**: What do the 2nd and 3rd parameters of the `plt.vlines()` API signify?\n",
        "\n",
        "**Answer:** This signify the control of the vertical extent of the dashed lines used to visualise the errors.\n",
        "\n",
        "---"
      ],
      "metadata": {
        "id": "9Py5d35ZM_KY"
      }
    },
    {
      "cell_type": "markdown",
      "source": [
        "We could just take the average of the differences between the actual and predicted Ys (errors) to calculate the loss of the system. However, the presence of negative errors would cause the errors to cancel out, not giving an accurate representation of the loss. Therefore, the smart thing to do here is to square each error amount, average out all the individual squared errors, and then take the square root of that - **RMSE Loss**\n",
        "\n",
        "**Note:** Some other measures are Mean Squared Error (MSE) Loss and Mean Absolute Error (MAE) Loss."
      ],
      "metadata": {
        "id": "2oUxMYFcFe6e"
      }
    },
    {
      "cell_type": "code",
      "source": [
        "# let's calculate the loss\n",
        "total_square_error = 0\n",
        "size = len(y)\n",
        "for i in range(0, size):\n",
        "  square_error = (y[i] - myY[i]) ** 2\n",
        "  total_square_error += square_error\n",
        "\n",
        "total_square_error /= size\n",
        "\n",
        "print(\"My loss is: \" + str(math.sqrt(total_square_error)))"
      ],
      "metadata": {
        "id": "MUOgz0NoChZG",
        "colab": {
          "base_uri": "https://localhost:8080/"
        },
        "outputId": "39711182-5657-4782-ebfd-38c47bb80a7c"
      },
      "execution_count": 4,
      "outputs": [
        {
          "output_type": "stream",
          "name": "stdout",
          "text": [
            "My loss is: 26.751946969644408\n"
          ]
        }
      ]
    },
    {
      "cell_type": "markdown",
      "source": [
        "## 2. Minimizing Loss"
      ],
      "metadata": {
        "id": "YZqMW2IHvqXR"
      }
    },
    {
      "cell_type": "markdown",
      "source": [
        "In this section we attempt to iteratively minimize the loss function of our regression model by training the model on given data over multiple epochs."
      ],
      "metadata": {
        "id": "LOr5Jm5TwZKr"
      }
    },
    {
      "cell_type": "markdown",
      "source": [
        "We import the following libraries -\n",
        "\n",
        "\n",
        "1.   [tensorflow](https://www.tensorflow.org/) - open source library to develop and train ML models\n",
        "2.   [numpy](https://numpy.org/) - scientific computing in Python\n",
        "3.   [matplotlib](https://matplotlib.org/) - visualization of data in Python\n",
        "\n"
      ],
      "metadata": {
        "id": "sGS5IutpPhGP"
      }
    },
    {
      "cell_type": "code",
      "source": [
        "try:\n",
        "  # %tensorflow_version only exists in Colab.\n",
        "  %tensorflow_version 2.x\n",
        "except Exception:\n",
        "  pass\n",
        "\n",
        "\n",
        "import tensorflow as tf\n",
        "import numpy as np\n",
        "import matplotlib.pyplot as plt"
      ],
      "metadata": {
        "id": "l8uQAtpf_smh",
        "colab": {
          "base_uri": "https://localhost:8080/"
        },
        "outputId": "d578e45d-2e41-43e8-d4a5-aee9c5f4efbe"
      },
      "execution_count": 5,
      "outputs": [
        {
          "output_type": "stream",
          "name": "stdout",
          "text": [
            "Colab only includes TensorFlow 2.x; %tensorflow_version has no effect.\n"
          ]
        }
      ]
    },
    {
      "cell_type": "markdown",
      "source": [
        "To train our Linear Regression Model, we need to first define our (i) ML Model, (ii) Loss Function, and the (iii) Training Procedure."
      ],
      "metadata": {
        "id": "FDgvPAZZQt2e"
      }
    },
    {
      "cell_type": "markdown",
      "source": [
        "### Linear Regression Model\n",
        "\n",
        "The model represents the function Y = wX + b. Therefore, the model outputs a value of Y for a given w, b, and X when it is called."
      ],
      "metadata": {
        "id": "SLCbfuwWSTSx"
      }
    },
    {
      "cell_type": "code",
      "source": [
        "# Define our initial guess\n",
        "INITIAL_W = 10.0\n",
        "INITIAL_B = 10.0\n",
        "\n",
        "# Define our simple regression model\n",
        "class Model(object):\n",
        "  def __init__(self):\n",
        "    # Initialize the weights\n",
        "    self.w = tf.Variable(INITIAL_W)\n",
        "    self.b = tf.Variable(INITIAL_B)\n",
        "\n",
        "  def __call__(self, x):\n",
        "    return self.w*x +self.b# <YOUR CODE HERE> #\n",
        "\n",
        "model = Model()\n",
        "predicted_y = model(2)\n",
        "print(\"Predicted values:\", predicted_y.numpy())"
      ],
      "metadata": {
        "id": "JOKXLdtQYAn9",
        "colab": {
          "base_uri": "https://localhost:8080/"
        },
        "outputId": "cb9da583-7194-4547-ba1b-b4eff023603c"
      },
      "execution_count": 6,
      "outputs": [
        {
          "output_type": "stream",
          "name": "stdout",
          "text": [
            "Predicted values: 30.0\n"
          ]
        }
      ]
    },
    {
      "cell_type": "markdown",
      "source": [
        "***Hint:*** Given X, the `__call__()` class method should return Y. We know Y = wX + b. Therefore, return `self.w * x + self.b`"
      ],
      "metadata": {
        "id": "yaSBNf3JN9PM"
      }
    },
    {
      "cell_type": "markdown",
      "source": [
        "### Loss Function\n",
        "\n",
        "We then define our loss function which returns the Mean Squared Error (MSE) Loss.\n",
        "\n",
        "The tensorflow API `tf.reduce_mean()` computes the mean of the input tensor. It reduces the input tensor along the specified axis. Read more [here](https://www.tensorflow.org/api_docs/python/tf/math/reduce_mean)."
      ],
      "metadata": {
        "id": "qZyKjNZkbMXp"
      }
    },
    {
      "cell_type": "code",
      "source": [
        "# Define our loss function\n",
        "def loss(predicted_y, target_y):\n",
        "  return tf.reduce_mean(tf.square(predicted_y - target_y))"
      ],
      "metadata": {
        "id": "jY0OplVNbWHx"
      },
      "execution_count": 7,
      "outputs": []
    },
    {
      "cell_type": "markdown",
      "source": [
        "### Training Procedure\n",
        "\n",
        "Here, Gradient Descent optimization is used for the training procedure. We define a train function which performs one step of **Gradient Descent** on all data samples in our dataset (i.e., all Xs and Ys). The Gradient Descent Optimization Algorithm involves:\n",
        "\n",
        "1.   the calculation of the loss function\n",
        "2.   the derivatves of the loss function w.r.t the individual parameters (w and b here)\n",
        "3.   updation of model parameters with the calculated derivatives\n",
        "\n",
        "You can read more about the math behind Gradient Descent [here](https://towardsdatascience.com/understanding-the-mathematics-behind-gradient-descent-dde5dc9be06es://). It is however beyond the scope of the course."
      ],
      "metadata": {
        "id": "cJj1cxFadTDy"
      }
    },
    {
      "cell_type": "markdown",
      "source": [
        "**TensorFlow API Gradient Tape** -\n",
        "\n",
        "The Calculus is managed by a TensorFlow Gradient Tape. You can learn more about the gradient tape at https://www.tensorflow.org/api_docs/python/tf/GradientTape"
      ],
      "metadata": {
        "id": "aDxqkMRskxx4"
      }
    },
    {
      "cell_type": "code",
      "source": [
        "# Define our training procedure\n",
        "def train(model, inputs, outputs, learning_rate):\n",
        "  with tf.GradientTape() as t:\n",
        "    # loss function\n",
        "    current_loss = loss(model(inputs), outputs)\n",
        "\n",
        "    # Here is where you differentiate loss function w.r.t model parameters\n",
        "    dw, db = t.gradient(current_loss, [model.w, model.b])      # dloss/dw, dloss/db\n",
        "\n",
        "    # And here is where you update the model parameters based on the learning rate chosen\n",
        "    model.w.assign_sub(learning_rate * dw)   # model.w = model.w - learning_rate*dw\n",
        "    model.b.assign_sub(learning_rate * db)# <YOUR CODE HERE>   # model.b = model.b - learning_rate*db\n",
        "    return current_loss"
      ],
      "metadata": {
        "id": "9fLQyjzVv4u3"
      },
      "execution_count": 8,
      "outputs": []
    },
    {
      "cell_type": "markdown",
      "source": [
        "---\n",
        "\n",
        "\n",
        "**Question 4**: In the above example, before we train our model, what are the three things that we need to define?\n",
        "\n",
        "**Answer:**  (i) ML Model, (ii) Loss Function, and the (iii) Training Procedure.\n",
        "\n",
        "---"
      ],
      "metadata": {
        "id": "-1qR8Ly_SA7I"
      }
    },
    {
      "cell_type": "markdown",
      "source": [
        "### Train Model\n",
        "\n",
        "Now that we have defined the above individual functions, its time to put them together.\n",
        "\n",
        "We first define our dataset, then instantiate our model. We then train our model over multiple epochs. For each epoch, we calculate and store the parameter values (w and b) and the loss."
      ],
      "metadata": {
        "id": "t9OVMTeQwIYy"
      }
    },
    {
      "cell_type": "markdown",
      "source": [
        "Notice the decrease in loss as we go through more epochs."
      ],
      "metadata": {
        "id": "PktVRvVFTWQC"
      }
    },
    {
      "cell_type": "code",
      "source": [
        "# Define our input data and learning rate\n",
        "xs = [-1.0, 0.0, 1.0, 2.0, 3.0, 4.0]\n",
        "ys = [-3.0, -1.0, 1.0, 3.0, 5.0, 7.0]\n",
        "LEARNING_RATE = 0.14   #0.09\n",
        "\n",
        "# Instantiate our model\n",
        "model = Model()\n",
        "\n",
        "# Collect the history of w-values and b-values to plot later\n",
        "list_w, list_b = [], []\n",
        "epochs = 50\n",
        "losses = []\n",
        "\n",
        "for epoch in range(epochs):\n",
        "  list_w.append(model.w.numpy())\n",
        "  list_b.append(model.b.numpy())\n",
        "  current_loss = train(model, xs, ys, learning_rate=LEARNING_RATE)\n",
        "  losses.append(current_loss)\n",
        "  print('Epoch %2d: w=%1.2f b=%1.2f, loss=%2.5f' %\n",
        "        (epoch, list_w[-1], list_b[-1], current_loss))"
      ],
      "metadata": {
        "id": "NCPlW9FpwFgV",
        "colab": {
          "base_uri": "https://localhost:8080/"
        },
        "outputId": "e69fd665-8418-44de-8d93-8329703559ae"
      },
      "execution_count": 9,
      "outputs": [
        {
          "output_type": "stream",
          "name": "stdout",
          "text": [
            "Epoch  0: w=10.00 b=10.00, loss=715.66669\n",
            "Epoch  1: w=-6.19 b=3.56, loss=255.55090\n",
            "Epoch  2: w=3.74 b=5.72, loss=96.13296\n",
            "Epoch  3: w=-1.60 b=3.11, loss=39.55296\n",
            "Epoch  4: w=1.88 b=3.47, loss=18.50843\n",
            "Epoch  5: w=0.17 b=2.27, loss=10.00789\n",
            "Epoch  6: w=1.44 b=2.12, loss=6.12540\n",
            "Epoch  7: w=0.94 b=1.48, loss=4.07653\n",
            "Epoch  8: w=1.43 b=1.23, loss=2.84567\n",
            "Epoch  9: w=1.32 b=0.85, loss=2.03589\n",
            "Epoch 10: w=1.53 b=0.62, loss=1.47411\n",
            "Epoch 11: w=1.53 b=0.36, loss=1.07344\n",
            "Epoch 12: w=1.64 b=0.18, loss=0.78376\n",
            "Epoch 13: w=1.67 b=-0.00, loss=0.57296\n",
            "Epoch 14: w=1.73 b=-0.14, loss=0.41910\n",
            "Epoch 15: w=1.76 b=-0.27, loss=0.30664\n",
            "Epoch 16: w=1.80 b=-0.37, loss=0.22438\n",
            "Epoch 17: w=1.83 b=-0.46, loss=0.16420\n",
            "Epoch 18: w=1.85 b=-0.54, loss=0.12017\n",
            "Epoch 19: w=1.87 b=-0.61, loss=0.08794\n",
            "Epoch 20: w=1.89 b=-0.66, loss=0.06436\n",
            "Epoch 21: w=1.91 b=-0.71, loss=0.04710\n",
            "Epoch 22: w=1.92 b=-0.75, loss=0.03447\n",
            "Epoch 23: w=1.93 b=-0.79, loss=0.02522\n",
            "Epoch 24: w=1.94 b=-0.82, loss=0.01846\n",
            "Epoch 25: w=1.95 b=-0.85, loss=0.01351\n",
            "Epoch 26: w=1.96 b=-0.87, loss=0.00989\n",
            "Epoch 27: w=1.96 b=-0.89, loss=0.00724\n",
            "Epoch 28: w=1.97 b=-0.90, loss=0.00529\n",
            "Epoch 29: w=1.97 b=-0.92, loss=0.00387\n",
            "Epoch 30: w=1.98 b=-0.93, loss=0.00284\n",
            "Epoch 31: w=1.98 b=-0.94, loss=0.00208\n",
            "Epoch 32: w=1.98 b=-0.95, loss=0.00152\n",
            "Epoch 33: w=1.99 b=-0.96, loss=0.00111\n",
            "Epoch 34: w=1.99 b=-0.96, loss=0.00081\n",
            "Epoch 35: w=1.99 b=-0.97, loss=0.00060\n",
            "Epoch 36: w=1.99 b=-0.97, loss=0.00044\n",
            "Epoch 37: w=1.99 b=-0.98, loss=0.00032\n",
            "Epoch 38: w=1.99 b=-0.98, loss=0.00023\n",
            "Epoch 39: w=1.99 b=-0.98, loss=0.00017\n",
            "Epoch 40: w=2.00 b=-0.99, loss=0.00012\n",
            "Epoch 41: w=2.00 b=-0.99, loss=0.00009\n",
            "Epoch 42: w=2.00 b=-0.99, loss=0.00007\n",
            "Epoch 43: w=2.00 b=-0.99, loss=0.00005\n",
            "Epoch 44: w=2.00 b=-0.99, loss=0.00004\n",
            "Epoch 45: w=2.00 b=-0.99, loss=0.00003\n",
            "Epoch 46: w=2.00 b=-0.99, loss=0.00002\n",
            "Epoch 47: w=2.00 b=-1.00, loss=0.00001\n",
            "Epoch 48: w=2.00 b=-1.00, loss=0.00001\n",
            "Epoch 49: w=2.00 b=-1.00, loss=0.00001\n"
          ]
        }
      ]
    },
    {
      "cell_type": "markdown",
      "source": [
        "### Plot our trained values over time\n",
        "\n",
        "Below is a plot of the model parameter values w and b (y-axis) across all the epochs (x-axis). As the model is trained, notice how the values of w and b eventually converge to the true values 2.0 and -1.0 respectively."
      ],
      "metadata": {
        "id": "6afLtlyRwR-x"
      }
    },
    {
      "cell_type": "code",
      "source": [
        "# Plot the w-values and b-values for each training Epoch against the true values\n",
        "TRUE_w = 2.0\n",
        "TRUE_b = -1.0\n",
        "xaxis = range(epochs)\n",
        "plt.plot(xaxis, list_w, 'r', xaxis, list_b, 'b')\n",
        "plt.plot([TRUE_w] * epochs, 'r--', [TRUE_b] * epochs, 'b--')\n",
        "plt.legend(['w', 'b', 'True w', 'True b'])\n",
        "plt.show()"
      ],
      "metadata": {
        "id": "50uecDpHwPGV",
        "colab": {
          "base_uri": "https://localhost:8080/",
          "height": 430
        },
        "outputId": "ad73a17a-6a02-4687-9731-2a1538e6663d"
      },
      "execution_count": 10,
      "outputs": [
        {
          "output_type": "display_data",
          "data": {
            "text/plain": [
              "<Figure size 640x480 with 1 Axes>"
            ],
            "image/png": "[encoded data removed]"
          },
          "metadata": {}
        }
      ]
    },
    {
      "cell_type": "markdown",
      "source": [
        "---\n",
        "\n",
        "\n",
        "**Question 5**: In the above plot, what do the solid lines and dotted lines signify?\n",
        "\n",
        "**Answer:** Solid lines: Learned weights (w, b) during each training epoch.\n",
        "\n",
        "Dashed lines: True (constant) values of weights (w, b).\n",
        "\n",
        "---"
      ],
      "metadata": {
        "id": "XcD48DftWR1S"
      }
    }
  ],
  "metadata": {
    "colab": {
      "provenance": []
    },
    "kernelspec": {
      "display_name": "Python 3",
      "language": "python",
      "name": "python3"
    },
    "language_info": {
      "codemirror_mode": {
        "name": "ipython",
        "version": 3
      },
      "file_extension": ".py",
      "mimetype": "text/x-python",
      "name": "python",
      "nbconvert_exporter": "python",
      "pygments_lexer": "ipython3",
      "version": "3.6.9"
    }
  },
  "nbformat": 4,
  "nbformat_minor": 0
}